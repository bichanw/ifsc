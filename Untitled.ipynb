{
 "cells": [
  {
   "cell_type": "code",
   "execution_count": 36,
   "id": "a4d8d32e-1132-4036-8ccb-4cb73a87df63",
   "metadata": {},
   "outputs": [],
   "source": [
    "from selenium import webdriver\n",
    "from selenium.webdriver.chrome.options import Options\n",
    "from selenium.webdriver.common.by import By\n",
    "import time\n",
    "import tempfile\n",
    "from selenium.webdriver.chrome.service import Service\n",
    "from webdriver_manager.chrome import ChromeDriverManager\n",
    "from selenium.webdriver.chrome.options import Options\n",
    "import numpy as np\n"
   ]
  },
  {
   "cell_type": "code",
   "execution_count": 116,
   "id": "6b4719b8",
   "metadata": {},
   "outputs": [],
   "source": [
    "\n",
    "# Set up headless Chrome browser\n",
    "options = Options()\n",
    "# options.add_argument(\"--headless\")\n",
    "options.add_argument(\"--no-sandbox\")\n",
    "options.add_argument(\"--disable-dev-shm-usage\")\n",
    "# Set a unique temporary user data directory\n",
    "# user_data_dir = tempfile.mkdtemp()\n",
    "# options.add_argument(f\"--user-data-dir={user_data_dir}\")\n",
    "# options.binary_location = os.environ[\"CHROME_BIN\"]\n",
    "driver = webdriver.Chrome(options=options)\n"
   ]
  },
  {
   "cell_type": "markdown",
   "id": "9b7fa004",
   "metadata": {},
   "source": []
  },
  {
   "cell_type": "code",
   "execution_count": 117,
   "id": "c88fd039",
   "metadata": {},
   "outputs": [],
   "source": [
    "events_urls = ['https://ifsc.results.info/event/1353/',\n",
    "               'https://ifsc.results.info/event/1355/',\n",
    "               'https://ifsc.results.info/event/1356/',\n",
    "               'https://ifsc.results.info/event/1360/',\n",
    "               'https://ifsc.results.info/event/1361/',\n",
    "               'https://ifsc.results.info/event/1405/',\n",
    "               'https://ifsc.results.info/event/1408/',\n",
    "               'https://ifsc.results.info/event/1409/',]\n",
    "\n"
   ]
  },
  {
   "cell_type": "code",
   "execution_count": 118,
   "id": "4071b42d",
   "metadata": {},
   "outputs": [
    {
     "name": "stdout",
     "output_type": "stream",
     "text": [
      "Getting Men S results\n",
      "Getting Women F results\n",
      "[[25.  10.  10.  25. ]\n",
      " [25.   9.8 24.6 10. ]\n",
      " [24.8 10.   0.  24.9]\n",
      " [25.   0.   9.9 24.6]\n",
      " [24.4  0.  10.  25. ]\n",
      " [25.   0.   0.  24.8]\n",
      " [ 9.9 10.  24.8 10. ]\n",
      " [24.8 10.   9.9  9.8]\n",
      " [25.   0.  10.   9.7]\n",
      " [25.   0.  10.   9.7]\n",
      " [25.   0.   9.9  9.8]\n",
      " [25.   0.   9.9  9.6]\n",
      " [24.8 10.  10.   0. ]\n",
      " [24.2  0.   9.8  9.9]\n",
      " [24.9  0.   9.9  0. ]\n",
      " [ 9.8  0.  10.   9.8]\n",
      " [ 9.6  0.   9.5  9.9]\n",
      " [ 9.8  0.   0.  10. ]\n",
      " [ 9.6  0.   0.   0. ]\n",
      " [ 0.   0.   0.   0. ]]\n",
      "[[25.  25.  24.8 25. ]\n",
      " [24.  24.5  9.7  0. ]\n",
      " [ 0.  25.  25.   0. ]\n",
      " [24.2  9.8  9.4  0. ]\n",
      " [ 0.  25.   9.6  0. ]\n",
      " [ 0.  24.9  9.8  0. ]]\n",
      "Getting Men F results\n",
      "Getting Women F results\n"
     ]
    },
    {
     "ename": "NoSuchElementException",
     "evalue": "Message: no such element: Unable to locate element: {\"method\":\"css selector\",\"selector\":\".m-0\"}\n  (Session info: chrome=137.0.7151.55); For documentation on this error, please visit: https://www.selenium.dev/documentation/webdriver/troubleshooting/errors#no-such-element-exception\nStacktrace:\n0   chromedriver                        0x0000000100684708 cxxbridge1$str$ptr + 2729312\n1   chromedriver                        0x000000010067c96c cxxbridge1$str$ptr + 2697156\n2   chromedriver                        0x00000001001ce728 cxxbridge1$string$len + 90444\n3   chromedriver                        0x00000001002159b8 cxxbridge1$string$len + 381916\n4   chromedriver                        0x00000001002570c4 cxxbridge1$string$len + 649960\n5   chromedriver                        0x0000000100209bc0 cxxbridge1$string$len + 333284\n6   chromedriver                        0x0000000100648298 cxxbridge1$str$ptr + 2482416\n7   chromedriver                        0x000000010064b52c cxxbridge1$str$ptr + 2495364\n8   chromedriver                        0x0000000100629ae0 cxxbridge1$str$ptr + 2357560\n9   chromedriver                        0x000000010064bdb4 cxxbridge1$str$ptr + 2497548\n10  chromedriver                        0x000000010061adec cxxbridge1$str$ptr + 2296900\n11  chromedriver                        0x000000010066bc4c cxxbridge1$str$ptr + 2628260\n12  chromedriver                        0x000000010066bdd8 cxxbridge1$str$ptr + 2628656\n13  chromedriver                        0x000000010067c5b8 cxxbridge1$str$ptr + 2696208\n14  libsystem_pthread.dylib             0x00000001a7d97fa8 _pthread_start + 148\n15  libsystem_pthread.dylib             0x00000001a7d92da0 thread_start + 8\n",
     "output_type": "error",
     "traceback": [
      "\u001b[0;31m---------------------------------------------------------------------------\u001b[0m",
      "\u001b[0;31mNoSuchElementException\u001b[0m                    Traceback (most recent call last)",
      "Cell \u001b[0;32mIn[118], line 3\u001b[0m\n\u001b[1;32m      1\u001b[0m score_mat \u001b[38;5;241m=\u001b[39m []\n\u001b[1;32m      2\u001b[0m \u001b[38;5;28;01mfor\u001b[39;00m event_url \u001b[38;5;129;01min\u001b[39;00m events_urls[:\u001b[38;5;241m3\u001b[39m]:\n\u001b[0;32m----> 3\u001b[0m     score_mat\u001b[38;5;241m.\u001b[39mappend([\u001b[43mget_score_from_event\u001b[49m\u001b[43m(\u001b[49m\u001b[43murl\u001b[49m\u001b[43m,\u001b[49m\u001b[43m \u001b[49m\u001b[43mdriver\u001b[49m\u001b[43m)\u001b[49m \u001b[38;5;28;01mfor\u001b[39;00m url \u001b[38;5;129;01min\u001b[39;00m get_finals_urls(event_url,driver)])\n",
      "Cell \u001b[0;32mIn[103], line 15\u001b[0m, in \u001b[0;36mget_score_from_event\u001b[0;34m(event_url, driver)\u001b[0m\n\u001b[1;32m     12\u001b[0m time\u001b[38;5;241m.\u001b[39msleep(\u001b[38;5;241m5\u001b[39m)  \u001b[38;5;66;03m# Wait for JavaScript to load content\u001b[39;00m\n\u001b[1;32m     14\u001b[0m event_title \u001b[38;5;241m=\u001b[39m driver\u001b[38;5;241m.\u001b[39mfind_element(By\u001b[38;5;241m.\u001b[39mCLASS_NAME, \u001b[38;5;124m\"\u001b[39m\u001b[38;5;124mevent-name\u001b[39m\u001b[38;5;124m\"\u001b[39m)\u001b[38;5;241m.\u001b[39mtext\n\u001b[0;32m---> 15\u001b[0m results_table \u001b[38;5;241m=\u001b[39m \u001b[43mdriver\u001b[49m\u001b[38;5;241;43m.\u001b[39;49m\u001b[43mfind_element\u001b[49m\u001b[43m(\u001b[49m\u001b[43mBy\u001b[49m\u001b[38;5;241;43m.\u001b[39;49m\u001b[43mCLASS_NAME\u001b[49m\u001b[43m,\u001b[49m\u001b[43m \u001b[49m\u001b[38;5;124;43m\"\u001b[39;49m\u001b[38;5;124;43mm-0\u001b[39;49m\u001b[38;5;124;43m\"\u001b[39;49m\u001b[43m)\u001b[49m\n\u001b[1;32m     17\u001b[0m \u001b[38;5;66;03m# Get all rows with the matching class\u001b[39;00m\n\u001b[1;32m     18\u001b[0m athelete_rows \u001b[38;5;241m=\u001b[39m results_table\u001b[38;5;241m.\u001b[39mfind_elements(By\u001b[38;5;241m.\u001b[39mCSS_SELECTOR, \u001b[38;5;124m\"\u001b[39m\u001b[38;5;124mtr.r-row.no-border-bottom\u001b[39m\u001b[38;5;124m\"\u001b[39m)\n",
      "File \u001b[0;32m~/miniconda3/lib/python3.12/site-packages/selenium/webdriver/remote/webdriver.py:914\u001b[0m, in \u001b[0;36mWebDriver.find_element\u001b[0;34m(self, by, value)\u001b[0m\n\u001b[1;32m    911\u001b[0m         \u001b[38;5;28;01mraise\u001b[39;00m NoSuchElementException(\u001b[38;5;124mf\u001b[39m\u001b[38;5;124m\"\u001b[39m\u001b[38;5;124mCannot locate relative element with: \u001b[39m\u001b[38;5;132;01m{\u001b[39;00mby\u001b[38;5;241m.\u001b[39mroot\u001b[38;5;132;01m}\u001b[39;00m\u001b[38;5;124m\"\u001b[39m)\n\u001b[1;32m    912\u001b[0m     \u001b[38;5;28;01mreturn\u001b[39;00m elements[\u001b[38;5;241m0\u001b[39m]\n\u001b[0;32m--> 914\u001b[0m \u001b[38;5;28;01mreturn\u001b[39;00m \u001b[38;5;28;43mself\u001b[39;49m\u001b[38;5;241;43m.\u001b[39;49m\u001b[43mexecute\u001b[49m\u001b[43m(\u001b[49m\u001b[43mCommand\u001b[49m\u001b[38;5;241;43m.\u001b[39;49m\u001b[43mFIND_ELEMENT\u001b[49m\u001b[43m,\u001b[49m\u001b[43m \u001b[49m\u001b[43m{\u001b[49m\u001b[38;5;124;43m\"\u001b[39;49m\u001b[38;5;124;43musing\u001b[39;49m\u001b[38;5;124;43m\"\u001b[39;49m\u001b[43m:\u001b[49m\u001b[43m \u001b[49m\u001b[43mby\u001b[49m\u001b[43m,\u001b[49m\u001b[43m \u001b[49m\u001b[38;5;124;43m\"\u001b[39;49m\u001b[38;5;124;43mvalue\u001b[39;49m\u001b[38;5;124;43m\"\u001b[39;49m\u001b[43m:\u001b[49m\u001b[43m \u001b[49m\u001b[43mvalue\u001b[49m\u001b[43m}\u001b[49m\u001b[43m)\u001b[49m[\u001b[38;5;124m\"\u001b[39m\u001b[38;5;124mvalue\u001b[39m\u001b[38;5;124m\"\u001b[39m]\n",
      "File \u001b[0;32m~/miniconda3/lib/python3.12/site-packages/selenium/webdriver/remote/webdriver.py:447\u001b[0m, in \u001b[0;36mWebDriver.execute\u001b[0;34m(self, driver_command, params)\u001b[0m\n\u001b[1;32m    445\u001b[0m response \u001b[38;5;241m=\u001b[39m \u001b[38;5;28mself\u001b[39m\u001b[38;5;241m.\u001b[39mcommand_executor\u001b[38;5;241m.\u001b[39mexecute(driver_command, params)\n\u001b[1;32m    446\u001b[0m \u001b[38;5;28;01mif\u001b[39;00m response:\n\u001b[0;32m--> 447\u001b[0m     \u001b[38;5;28;43mself\u001b[39;49m\u001b[38;5;241;43m.\u001b[39;49m\u001b[43merror_handler\u001b[49m\u001b[38;5;241;43m.\u001b[39;49m\u001b[43mcheck_response\u001b[49m\u001b[43m(\u001b[49m\u001b[43mresponse\u001b[49m\u001b[43m)\u001b[49m\n\u001b[1;32m    448\u001b[0m     response[\u001b[38;5;124m\"\u001b[39m\u001b[38;5;124mvalue\u001b[39m\u001b[38;5;124m\"\u001b[39m] \u001b[38;5;241m=\u001b[39m \u001b[38;5;28mself\u001b[39m\u001b[38;5;241m.\u001b[39m_unwrap_value(response\u001b[38;5;241m.\u001b[39mget(\u001b[38;5;124m\"\u001b[39m\u001b[38;5;124mvalue\u001b[39m\u001b[38;5;124m\"\u001b[39m, \u001b[38;5;28;01mNone\u001b[39;00m))\n\u001b[1;32m    449\u001b[0m     \u001b[38;5;28;01mreturn\u001b[39;00m response\n",
      "File \u001b[0;32m~/miniconda3/lib/python3.12/site-packages/selenium/webdriver/remote/errorhandler.py:232\u001b[0m, in \u001b[0;36mErrorHandler.check_response\u001b[0;34m(self, response)\u001b[0m\n\u001b[1;32m    230\u001b[0m         alert_text \u001b[38;5;241m=\u001b[39m value[\u001b[38;5;124m\"\u001b[39m\u001b[38;5;124malert\u001b[39m\u001b[38;5;124m\"\u001b[39m]\u001b[38;5;241m.\u001b[39mget(\u001b[38;5;124m\"\u001b[39m\u001b[38;5;124mtext\u001b[39m\u001b[38;5;124m\"\u001b[39m)\n\u001b[1;32m    231\u001b[0m     \u001b[38;5;28;01mraise\u001b[39;00m exception_class(message, screen, stacktrace, alert_text)  \u001b[38;5;66;03m# type: ignore[call-arg]  # mypy is not smart enough here\u001b[39;00m\n\u001b[0;32m--> 232\u001b[0m \u001b[38;5;28;01mraise\u001b[39;00m exception_class(message, screen, stacktrace)\n",
      "\u001b[0;31mNoSuchElementException\u001b[0m: Message: no such element: Unable to locate element: {\"method\":\"css selector\",\"selector\":\".m-0\"}\n  (Session info: chrome=137.0.7151.55); For documentation on this error, please visit: https://www.selenium.dev/documentation/webdriver/troubleshooting/errors#no-such-element-exception\nStacktrace:\n0   chromedriver                        0x0000000100684708 cxxbridge1$str$ptr + 2729312\n1   chromedriver                        0x000000010067c96c cxxbridge1$str$ptr + 2697156\n2   chromedriver                        0x00000001001ce728 cxxbridge1$string$len + 90444\n3   chromedriver                        0x00000001002159b8 cxxbridge1$string$len + 381916\n4   chromedriver                        0x00000001002570c4 cxxbridge1$string$len + 649960\n5   chromedriver                        0x0000000100209bc0 cxxbridge1$string$len + 333284\n6   chromedriver                        0x0000000100648298 cxxbridge1$str$ptr + 2482416\n7   chromedriver                        0x000000010064b52c cxxbridge1$str$ptr + 2495364\n8   chromedriver                        0x0000000100629ae0 cxxbridge1$str$ptr + 2357560\n9   chromedriver                        0x000000010064bdb4 cxxbridge1$str$ptr + 2497548\n10  chromedriver                        0x000000010061adec cxxbridge1$str$ptr + 2296900\n11  chromedriver                        0x000000010066bc4c cxxbridge1$str$ptr + 2628260\n12  chromedriver                        0x000000010066bdd8 cxxbridge1$str$ptr + 2628656\n13  chromedriver                        0x000000010067c5b8 cxxbridge1$str$ptr + 2696208\n14  libsystem_pthread.dylib             0x00000001a7d97fa8 _pthread_start + 148\n15  libsystem_pthread.dylib             0x00000001a7d92da0 thread_start + 8\n"
     ]
    }
   ],
   "source": [
    "score_mat = []\n",
    "for event_url in events_urls[:3]:\n",
    "    score_mat.append([get_score_from_event(url, driver) for url in get_finals_urls(event_url,driver)])"
   ]
  },
  {
   "cell_type": "code",
   "execution_count": 114,
   "id": "c69e1443",
   "metadata": {},
   "outputs": [
    {
     "name": "stdout",
     "output_type": "stream",
     "text": [
      "Getting Men S results\n",
      "Getting Women F results\n",
      "[[25.  10.  10.  25. ]\n",
      " [25.   9.8 24.6 10. ]\n",
      " [24.8 10.   0.  24.9]\n",
      " [25.   0.   9.9 24.6]\n",
      " [24.4  0.  10.  25. ]\n",
      " [25.   0.   0.  24.8]\n",
      " [ 9.9 10.  24.8 10. ]\n",
      " [24.8 10.   9.9  9.8]\n",
      " [25.   0.  10.   9.7]\n",
      " [25.   0.  10.   9.7]\n",
      " [25.   0.   9.9  9.8]\n",
      " [25.   0.   9.9  9.6]\n",
      " [24.8 10.  10.   0. ]\n",
      " [24.2  0.   9.8  9.9]\n",
      " [24.9  0.   9.9  0. ]\n",
      " [ 9.8  0.  10.   9.8]\n",
      " [ 9.6  0.   9.5  9.9]\n",
      " [ 9.8  0.   0.  10. ]\n",
      " [ 9.6  0.   0.   0. ]\n",
      " [ 0.   0.   0.   0. ]]\n",
      "[[25.  25.  24.8 25. ]\n",
      " [24.  24.5  9.7  0. ]\n",
      " [ 0.  25.  25.   0. ]\n",
      " [24.2  9.8  9.4  0. ]\n",
      " [ 0.  25.   9.6  0. ]\n",
      " [ 0.  24.9  9.8  0. ]]\n"
     ]
    }
   ],
   "source": [
    "score_mat = [get_score_from_event(url, driver) for url in get_finals_urls('https://ifsc.results.info/event/1353/',driver)]"
   ]
  },
  {
   "cell_type": "code",
   "execution_count": 112,
   "id": "5c1be5d2",
   "metadata": {},
   "outputs": [],
   "source": [
    "def get_finals_urls(event_url, driver):\n",
    "    \"\"\"\n",
    "    Get the URLs of the finals results\n",
    "    for a given event.\n",
    "    \"\"\"\n",
    "    driver.get(event_url)\n",
    "    time.sleep(5)  # Wait for JavaScript to load content\n",
    "    events_by_gender = driver.find_elements(By.CSS_SELECTOR, \"div.dcat-row.d-flex.justify-content-between.align-items-center\")\n",
    "    urls = []\n",
    "    for event in events_by_gender:\n",
    "        print(f\"Getting {event.text.split('\\n')[0]} {event.text.split('\\n')[-1]} results\")\n",
    "        urls.append(event.find_elements(By.CSS_SELECTOR, \"a.cr-nav-button\")[-1].get_attribute(\"href\"))\n",
    "\n",
    "    return urls\n",
    "\n",
    "\n"
   ]
  },
  {
   "cell_type": "code",
   "execution_count": null,
   "id": "78bf052c",
   "metadata": {},
   "outputs": [],
   "source": [
    "def get_score_from_event(event_url, driver):\n",
    "    \"\"\"\n",
    "    Get the scores from a specific event URL using Selenium.\n",
    "    Args:\n",
    "        event_url (str): The URL of the final results.\n",
    "        driver (webdriver): The Selenium WebDriver instance.\n",
    "    Returns:\n",
    "        np.ndarray: A numpy matrix of athlete scores. atheletes x boulders\n",
    "    \"\"\"\n",
    "    \n",
    "    driver.get(event_url)   \n",
    "    time.sleep(5)  # Wait for JavaScript to load content\n",
    "\n",
    "    event_title = driver.find_element(By.CLASS_NAME, \"event-name\").text\n",
    "    results_table = driver.find_element(By.CLASS_NAME, \"m-0\")\n",
    "\n",
    "    # Get all rows with the matching class\n",
    "    athelete_rows = results_table.find_elements(By.CSS_SELECTOR, \"tr.r-row.no-border-bottom\")\n",
    "    scores_rows = results_table.find_elements(By.CSS_SELECTOR, \"tr.no-border-top.boulder-asc-detail\")\n",
    "\n",
    "    # keep a numpy matrix of all athletes all boulders scores\n",
    "    # each row is an athlete, each column is a boulder\n",
    "    athlete_scores_matrix = np.zeros((len(athelete_rows), 4))\n",
    "    for i, scores_row in enumerate(scores_rows):\n",
    "        total_score, each_boulder_scores = get_athlete_score(scores_row)\n",
    "        athlete_scores_matrix[i] = each_boulder_scores\n",
    "\n",
    "    return athlete_scores_matrix"
   ]
  },
  {
   "cell_type": "code",
   "execution_count": 23,
   "id": "cb2f0d8b",
   "metadata": {},
   "outputs": [],
   "source": [
    "def get_boulder_score(boulder):\n",
    "    \"\"\"\n",
    "    Calculate the score for a boulder based on the number of attempts. \n",
    "    If the boulder is topped, it adds 15 points minus 0.1 for each attempt.\n",
    "    If the boulder has a zone, it adds 10 points minus 0.1 for each attempt.\n",
    "    \"\"\"\n",
    "\n",
    "    score = 0\n",
    "    zone_attempt_element = boulder.find_elements(By.CSS_SELECTOR, \"div.zone.zoned\")\n",
    "    if len(zone_attempt_element) > 0:\n",
    "        # print(\"Boulder has zone\")\n",
    "        n_attempts = int(zone_attempt_element[0].text)\n",
    "        score += 10.1 - n_attempts * 0.1\n",
    "\n",
    "        top_attempt = boulder.find_elements(By.CSS_SELECTOR, \"div.top.topped\")\n",
    "        if len(top_attempt) > 0:\n",
    "            # print(\"Boulder is topped\")\n",
    "            n_attempts = int(top_attempt[0].text)\n",
    "            score += 15.1 - n_attempts * 0.1\n",
    "\n",
    "    return score"
   ]
  },
  {
   "cell_type": "code",
   "execution_count": null,
   "id": "da933f49",
   "metadata": {},
   "outputs": [],
   "source": [
    "# calculate the total score for the athlete\n",
    "def get_athlete_score(scores_row):\n",
    "    \"\"\"\n",
    "    Calculate the total score for an athlete based on their boulder scores.\n",
    "    Also returns the individual boulder scores.\n",
    "    \"\"\"\n",
    "    total_score = 0\n",
    "    all_boulders = scores_row.find_elements(By.CSS_SELECTOR, \"div.asc-cell-container\")\n",
    "    each_boulder_scores = [get_boulder_score(boulder) for boulder in all_boulders]\n",
    "    total_score = sum(each_boulder_scores)\n",
    "    \n",
    "    \n",
    "    return  total_score, each_boulder_scores"
   ]
  },
  {
   "cell_type": "code",
   "execution_count": 34,
   "id": "6b569913",
   "metadata": {},
   "outputs": [],
   "source": [
    "total_score, each_boulder_scores = get_athlete_score(scores_rows[4])"
   ]
  },
  {
   "cell_type": "code",
   "execution_count": 38,
   "id": "7206b313",
   "metadata": {},
   "outputs": [
    {
     "data": {
      "text/plain": [
       "array([[25. , 25. , 24.5, 10. ],\n",
       "       [25. , 25. , 10. , 10. ],\n",
       "       [25. , 25. , 10. , 10. ],\n",
       "       [25. , 25. , 10. , 10. ],\n",
       "       [25. , 25. ,  9.9, 10. ],\n",
       "       [25. , 24.8,  9.7,  9.9],\n",
       "       [ 0. , 24.8, 10. , 10. ],\n",
       "       [ 0. , 24.8,  9.5, 10. ]])"
      ]
     },
     "execution_count": 38,
     "metadata": {},
     "output_type": "execute_result"
    }
   ],
   "source": [
    "athlete_scores_matrix"
   ]
  },
  {
   "cell_type": "code",
   "execution_count": 41,
   "id": "cb1c0786",
   "metadata": {},
   "outputs": [],
   "source": [
    "driver.quit()"
   ]
  },
  {
   "cell_type": "code",
   "execution_count": 37,
   "id": "682dec9c",
   "metadata": {},
   "outputs": [
    {
     "data": {
      "text/plain": [
       "True"
      ]
     },
     "execution_count": 37,
     "metadata": {},
     "output_type": "execute_result"
    }
   ],
   "source": [
    "if_topped"
   ]
  },
  {
   "cell_type": "code",
   "execution_count": null,
   "id": "69251a58",
   "metadata": {},
   "outputs": [],
   "source": [
    "\n",
    "athlete_cells = [td.text.strip() for td in athlete_row.find_elements(By.TAG_NAME, \"td\")]\n",
    "score_cells = [td.text.strip() for td in score_row.find_elements(By.TAG_NAME, \"td\")]\n",
    "rank = int(athlete_row.find_element(By.CLASS_NAME, \"rank\").text.strip())\n",
    "score = float(athlete_row.find_element(By.CLASS_NAME, \"r-score\").text)\n",
    "link = athlete_row.find_element(By.CLASS_NAME, \"r-name\").get_attribute(\"href\")\n",
    "name = athlete_row.find_element(By.CLASS_NAME, \"r-name\").text"
   ]
  },
  {
   "cell_type": "code",
   "execution_count": null,
   "id": "920fe3f1",
   "metadata": {},
   "outputs": [],
   "source": [
    "athlete_row.find_element(By.CLASS_NAME, \"r-name\").text"
   ]
  },
  {
   "cell_type": "markdown",
   "id": "27194375",
   "metadata": {},
   "source": []
  },
  {
   "cell_type": "code",
   "execution_count": null,
   "id": "a984e1c0",
   "metadata": {},
   "outputs": [
    {
     "data": {
      "text/plain": [
       "<selenium.webdriver.remote.webelement.WebElement (session=\"9c07cc0817249d8b71162ce5b32729b8\", element=\"f.2B262F4947F4AB7430223248370BCE16.d.700127C966EE32ED0589A2481CBF70BB.e.38\")>"
      ]
     },
     "execution_count": 27,
     "metadata": {},
     "output_type": "execute_result"
    }
   ],
   "source": [
    "i = 0\n",
    "athlete_row = rows[i]\n"
   ]
  },
  {
   "cell_type": "code",
   "execution_count": null,
   "id": "177974d9",
   "metadata": {},
   "outputs": [],
   "source": [
    "# find athelete names\n"
   ]
  },
  {
   "cell_type": "code",
   "execution_count": null,
   "id": "6e64f6d4",
   "metadata": {},
   "outputs": [
    {
     "name": "stdout",
     "output_type": "stream",
     "text": [
      "Event Title: IFSC World Cup Salt Lake City 2025\n"
     ]
    }
   ],
   "source": [
    "\n",
    "# options.add_argument(\"--headless\")\n",
    "# options.add_argument(\"--no-sandbox\")\n",
    "# options.add_argument(\"--disable-dev-shm-usage\")\n",
    "\n",
    "driver = webdriver.Chrome(\n",
    "    service=Service(ChromeDriverManager().install()),\n",
    "    options=options\n",
    ")\n",
    "\n",
    "try:\n",
    "    # Navigate to the event page\n",
    "    driver.get(\"https://ifsc.results.info/event/1409/cr/10034\")\n",
    "    time.sleep(5)  # Wait for JavaScript to load content\n",
    "\n",
    "    # Example: Extract event title\n",
    "    event_title = driver.find_element(By.CLASS_NAME, \"event-name\").text\n",
    "    print(f\"Event Title: {event_title}\")\n",
    "\n",
    "    # # Example: Extract results table\n",
    "    # # Note: The actual selectors will depend on the page's structure\n",
    "    results_table = driver.find_element(By.CLASS_NAME, \"results\")\n",
    "    # rows = results_table.find_elements(By.TAG_NAME, \"tr\")\n",
    "    # for row in rows:\n",
    "    #     cells = row.find_elements(By.TAG_NAME, \"td\")\n",
    "    #     data = [cell.text for cell in cells]\n",
    "    #     print(data)\n",
    "\n",
    "finally:\n",
    "    driver.quit()\n"
   ]
  },
  {
   "cell_type": "code",
   "execution_count": null,
   "id": "7439bd12-d6b1-4c2d-8bbf-6c945d71a1ee",
   "metadata": {},
   "outputs": [],
   "source": []
  }
 ],
 "metadata": {
  "kernelspec": {
   "display_name": "base",
   "language": "python",
   "name": "python3"
  },
  "language_info": {
   "codemirror_mode": {
    "name": "ipython",
    "version": 3
   },
   "file_extension": ".py",
   "mimetype": "text/x-python",
   "name": "python",
   "nbconvert_exporter": "python",
   "pygments_lexer": "ipython3",
   "version": "3.12.2"
  }
 },
 "nbformat": 4,
 "nbformat_minor": 5
}
