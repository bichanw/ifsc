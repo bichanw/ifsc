{
 "cells": [
  {
   "cell_type": "code",
   "execution_count": 1,
   "id": "c6e24eba-718d-4104-9df9-8102fe0b57f3",
   "metadata": {},
   "outputs": [
    {
     "ename": "KeyError",
     "evalue": "'CHROME_BIN'",
     "output_type": "error",
     "traceback": [
      "\u001b[0;31m---------------------------------------------------------------------------\u001b[0m",
      "\u001b[0;31mKeyError\u001b[0m                                  Traceback (most recent call last)",
      "Cell \u001b[0;32mIn[1], line 2\u001b[0m\n\u001b[1;32m      1\u001b[0m \u001b[38;5;28;01mimport\u001b[39;00m \u001b[38;5;21;01mos\u001b[39;00m\n\u001b[0;32m----> 2\u001b[0m \u001b[43mos\u001b[49m\u001b[38;5;241;43m.\u001b[39;49m\u001b[43menviron\u001b[49m\u001b[43m[\u001b[49m\u001b[38;5;124;43m\"\u001b[39;49m\u001b[38;5;124;43mCHROME_BIN\u001b[39;49m\u001b[38;5;124;43m\"\u001b[39;49m\u001b[43m]\u001b[49m\n",
      "File \u001b[0;32m/jukebox/scratch/bichanw/miniconda3/envs/neu502b/lib/python3.9/os.py:679\u001b[0m, in \u001b[0;36m_Environ.__getitem__\u001b[0;34m(self, key)\u001b[0m\n\u001b[1;32m    676\u001b[0m     value \u001b[38;5;241m=\u001b[39m \u001b[38;5;28mself\u001b[39m\u001b[38;5;241m.\u001b[39m_data[\u001b[38;5;28mself\u001b[39m\u001b[38;5;241m.\u001b[39mencodekey(key)]\n\u001b[1;32m    677\u001b[0m \u001b[38;5;28;01mexcept\u001b[39;00m \u001b[38;5;167;01mKeyError\u001b[39;00m:\n\u001b[1;32m    678\u001b[0m     \u001b[38;5;66;03m# raise KeyError with the original key value\u001b[39;00m\n\u001b[0;32m--> 679\u001b[0m     \u001b[38;5;28;01mraise\u001b[39;00m \u001b[38;5;167;01mKeyError\u001b[39;00m(key) \u001b[38;5;28;01mfrom\u001b[39;00m \u001b[38;5;28;01mNone\u001b[39;00m\n\u001b[1;32m    680\u001b[0m \u001b[38;5;28;01mreturn\u001b[39;00m \u001b[38;5;28mself\u001b[39m\u001b[38;5;241m.\u001b[39mdecodevalue(value)\n",
      "\u001b[0;31mKeyError\u001b[0m: 'CHROME_BIN'"
     ]
    }
   ],
   "source": [
    "import os\n",
    "os.environ[\"CHROME_BIN\"]"
   ]
  },
  {
   "cell_type": "code",
   "execution_count": null,
   "id": "a4d8d32e-1132-4036-8ccb-4cb73a87df63",
   "metadata": {},
   "outputs": [],
   "source": [
    "from selenium import webdriver\n",
    "from selenium.webdriver.chrome.options import Options\n",
    "from selenium.webdriver.common.by import By\n",
    "import time\n",
    "import tempfile\n",
    "from selenium.webdriver.chrome.service import Service\n",
    "from webdriver_manager.chrome import ChromeDriverManager\n",
    "from selenium.webdriver.chrome.options import Options\n",
    "\n",
    "\n",
    "# Set up headless Chrome browser\n",
    "options = Options()\n",
    "options.headless = True\n",
    "# Set a unique temporary user data directory\n",
    "user_data_dir = tempfile.mkdtemp()\n",
    "options.add_argument(f\"--user-data-dir={user_data_dir}\")\n",
    "options.binary_location = os.environ[\"CHROME_BIN\"]\n",
    "driver = webdriver.Chrome(options=options)\n",
    "\n",
    "# options.add_argument(\"--headless\")\n",
    "# options.add_argument(\"--no-sandbox\")\n",
    "# options.add_argument(\"--disable-dev-shm-usage\")\n",
    "\n",
    "driver = webdriver.Chrome(\n",
    "    service=Service(ChromeDriverManager().install()),\n",
    "    options=options\n",
    ")\n",
    "\n",
    "try:\n",
    "    # Navigate to the event page\n",
    "    driver.get(\"https://ifsc.results.info/event/1409/cr/10034\")\n",
    "    time.sleep(5)  # Wait for JavaScript to load content\n",
    "\n",
    "    # Example: Extract event title\n",
    "    event_title = driver.find_element(By.TAG_NAME, \"h1\").text\n",
    "    print(f\"Event Title: {event_title}\")\n",
    "\n",
    "    # Example: Extract results table\n",
    "    # Note: The actual selectors will depend on the page's structure\n",
    "    results_table = driver.find_element(By.CLASS_NAME, \"results\")\n",
    "    rows = results_table.find_elements(By.TAG_NAME, \"tr\")\n",
    "    for row in rows:\n",
    "        cells = row.find_elements(By.TAG_NAME, \"td\")\n",
    "        data = [cell.text for cell in cells]\n",
    "        print(data)\n",
    "\n",
    "finally:\n",
    "    driver.quit()\n"
   ]
  },
  {
   "cell_type": "code",
   "execution_count": null,
   "id": "7439bd12-d6b1-4c2d-8bbf-6c945d71a1ee",
   "metadata": {},
   "outputs": [],
   "source": []
  }
 ],
 "metadata": {
  "kernelspec": {
   "display_name": "Python 3 (ipykernel)",
   "language": "python",
   "name": "python3"
  },
  "language_info": {
   "codemirror_mode": {
    "name": "ipython",
    "version": 3
   },
   "file_extension": ".py",
   "mimetype": "text/x-python",
   "name": "python",
   "nbconvert_exporter": "python",
   "pygments_lexer": "ipython3",
   "version": "3.9.17"
  }
 },
 "nbformat": 4,
 "nbformat_minor": 5
}
