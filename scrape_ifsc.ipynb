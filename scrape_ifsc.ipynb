{
 "cells": [
  {
   "cell_type": "code",
   "execution_count": 1,
   "id": "a4d8d32e-1132-4036-8ccb-4cb73a87df63",
   "metadata": {},
   "outputs": [],
   "source": [
    "from selenium import webdriver\n",
    "from selenium.webdriver.chrome.options import Options\n",
    "from selenium.webdriver.common.by import By\n",
    "import time\n",
    "import tempfile\n",
    "from selenium.webdriver.chrome.service import Service\n",
    "from webdriver_manager.chrome import ChromeDriverManager\n",
    "from selenium.webdriver.chrome.options import Options\n",
    "import numpy as np\n"
   ]
  },
  {
   "cell_type": "code",
   "execution_count": null,
   "id": "c88fd039",
   "metadata": {},
   "outputs": [],
   "source": [
    "# 5 world cups from 2024 an 3 events from 2025\n",
    "events_urls = ['https://ifsc.results.info/event/1353/',\n",
    "               'https://ifsc.results.info/event/1355/',\n",
    "               'https://ifsc.results.info/event/1356/',\n",
    "               'https://ifsc.results.info/event/1360/',\n",
    "               'https://ifsc.results.info/event/1361/',\n",
    "               'https://ifsc.results.info/event/1405/',\n",
    "               'https://ifsc.results.info/event/1408/',\n",
    "               'https://ifsc.results.info/event/1409/',]"
   ]
  },
  {
   "cell_type": "code",
   "execution_count": null,
   "id": "6b4719b8",
   "metadata": {},
   "outputs": [],
   "source": [
    "\n",
    "# Set up headless Chrome browser\n",
    "options = Options()\n",
    "# options.add_argument(\"--headless\")\n",
    "options.add_argument(\"--no-sandbox\")\n",
    "options.add_argument(\"--disable-dev-shm-usage\")\n",
    "# Set a unique temporary user data directory\n",
    "# user_data_dir = tempfile.mkdtemp()\n",
    "# options.add_argument(f\"--user-data-dir={user_data_dir}\")\n",
    "# options.binary_location = os.environ[\"CHROME_BIN\"]\n",
    "driver = webdriver.Chrome(options=options)\n",
    "\n",
    "\n",
    "# scrape results from finals\n",
    "score_mats = []\n",
    "for event_url in events_urls:\n",
    "    score_mats.append([get_score_from_event(url, driver) for url in get_finals_urls(event_url,driver)])\n",
    "driver.quit()\n",
    "\n",
    "# Save to disk\n",
    "np.save(\"score_mats.npy\", np.array(score_mats, dtype=object))"
   ]
  },
  {
   "cell_type": "code",
   "execution_count": 34,
   "id": "5c1be5d2",
   "metadata": {},
   "outputs": [],
   "source": [
    "def get_finals_urls(event_url, driver):\n",
    "    \"\"\"\n",
    "    Get the URLs of the finals results\n",
    "    for a given event.\n",
    "    \"\"\"\n",
    "    driver.get(event_url)\n",
    "    time.sleep(3)  # Wait for JavaScript to load content\n",
    "\n",
    "    # make sure you get results from boulder events\n",
    "    element = driver.find_element(By.XPATH, \"//*[text()='Boulder']\")\n",
    "    try:\n",
    "        element.click()\n",
    "        time.sleep(1) # Wait for the page to load after clicking\n",
    "    except: # already in boulder tab\n",
    "        pass\n",
    "\n",
    "    # get urls\n",
    "    events_by_gender = driver.find_elements(By.CSS_SELECTOR, \"div.dcat-row.d-flex.justify-content-between.align-items-center\")\n",
    "    urls = []\n",
    "    for event in events_by_gender:\n",
    "        print(f\"Getting {event.text.split('\\n')[0]} {event.text.split('\\n')[-1]} results\")\n",
    "        urls.append(event.find_elements(By.CSS_SELECTOR, \"a.cr-nav-button\")[-1].get_attribute(\"href\"))\n",
    "\n",
    "    return urls\n",
    "\n",
    "\n"
   ]
  },
  {
   "cell_type": "code",
   "execution_count": 29,
   "id": "78bf052c",
   "metadata": {},
   "outputs": [],
   "source": [
    "def get_score_from_event(event_url, driver):\n",
    "    \"\"\"\n",
    "    Get the scores from a specific event URL using Selenium.\n",
    "    Args:\n",
    "        event_url (str): The URL of the final results.\n",
    "        driver (webdriver): The Selenium WebDriver instance.\n",
    "    Returns:\n",
    "        np.ndarray: A numpy matrix of athlete scores. atheletes x boulders\n",
    "    \"\"\"\n",
    "    \n",
    "    driver.get(event_url)   \n",
    "    time.sleep(3)  # Wait for JavaScript to load content\n",
    "\n",
    "    event_title = driver.find_element(By.CLASS_NAME, \"event-name\").text\n",
    "    results_table = driver.find_element(By.CLASS_NAME, \"m-0\")\n",
    "\n",
    "    # Get all rows with the matching class\n",
    "    athelete_rows = results_table.find_elements(By.CSS_SELECTOR, \"tr.r-row.no-border-bottom\")\n",
    "    scores_rows = results_table.find_elements(By.CSS_SELECTOR, \"tr.no-border-top.boulder-asc-detail\")\n",
    "\n",
    "    # keep a numpy matrix of all athletes all boulders scores\n",
    "    # each row is an athlete, each column is a boulder\n",
    "    athlete_scores_matrix = np.zeros((len(athelete_rows), 4))\n",
    "    for i, scores_row in enumerate(scores_rows):\n",
    "        total_score, each_boulder_scores = get_athlete_score(scores_row)\n",
    "        athlete_scores_matrix[i] = each_boulder_scores\n",
    "\n",
    "    return athlete_scores_matrix"
   ]
  },
  {
   "cell_type": "code",
   "execution_count": 12,
   "id": "cb2f0d8b",
   "metadata": {},
   "outputs": [],
   "source": [
    "def get_boulder_score(boulder):\n",
    "    \"\"\"\n",
    "    Calculate the score for a boulder based on the number of attempts. \n",
    "    If the boulder is topped, it adds 15 points minus 0.1 for each attempt.\n",
    "    If the boulder has a zone, it adds 10 points minus 0.1 for each attempt.\n",
    "    \"\"\"\n",
    "\n",
    "    score = 0\n",
    "    zone_attempt_element = boulder.find_elements(By.CSS_SELECTOR, \"div.zone.zoned\")\n",
    "    if len(zone_attempt_element) > 0:\n",
    "        # print(\"Boulder has zone\")\n",
    "        n_attempts = int(zone_attempt_element[0].text)\n",
    "        score += 10.1 - n_attempts * 0.1\n",
    "\n",
    "        top_attempt = boulder.find_elements(By.CSS_SELECTOR, \"div.top.topped\")\n",
    "        if len(top_attempt) > 0:\n",
    "            # print(\"Boulder is topped\")\n",
    "            n_attempts = int(top_attempt[0].text)\n",
    "            score += 15.1 - n_attempts * 0.1\n",
    "\n",
    "    return score"
   ]
  },
  {
   "cell_type": "code",
   "execution_count": 13,
   "id": "da933f49",
   "metadata": {},
   "outputs": [],
   "source": [
    "# calculate the total score for the athlete\n",
    "def get_athlete_score(scores_row):\n",
    "    \"\"\"\n",
    "    Calculate the total score for an athlete based on their boulder scores.\n",
    "    Also returns the individual boulder scores.\n",
    "    \"\"\"\n",
    "    total_score = 0\n",
    "    all_boulders = scores_row.find_elements(By.CSS_SELECTOR, \"div.asc-cell-container\")\n",
    "    each_boulder_scores = [get_boulder_score(boulder) for boulder in all_boulders]\n",
    "    total_score = sum(each_boulder_scores)\n",
    "    \n",
    "    \n",
    "    return  total_score, each_boulder_scores"
   ]
  },
  {
   "cell_type": "code",
   "execution_count": 34,
   "id": "6b569913",
   "metadata": {},
   "outputs": [],
   "source": [
    "total_score, each_boulder_scores = get_athlete_score(scores_rows[4])"
   ]
  },
  {
   "cell_type": "code",
   "execution_count": 38,
   "id": "7206b313",
   "metadata": {},
   "outputs": [
    {
     "data": {
      "text/plain": [
       "array([[25. , 25. , 24.5, 10. ],\n",
       "       [25. , 25. , 10. , 10. ],\n",
       "       [25. , 25. , 10. , 10. ],\n",
       "       [25. , 25. , 10. , 10. ],\n",
       "       [25. , 25. ,  9.9, 10. ],\n",
       "       [25. , 24.8,  9.7,  9.9],\n",
       "       [ 0. , 24.8, 10. , 10. ],\n",
       "       [ 0. , 24.8,  9.5, 10. ]])"
      ]
     },
     "execution_count": 38,
     "metadata": {},
     "output_type": "execute_result"
    }
   ],
   "source": [
    "athlete_scores_matrix"
   ]
  },
  {
   "cell_type": "code",
   "execution_count": 41,
   "id": "cb1c0786",
   "metadata": {},
   "outputs": [],
   "source": [
    "driver.quit()"
   ]
  },
  {
   "cell_type": "code",
   "execution_count": 37,
   "id": "682dec9c",
   "metadata": {},
   "outputs": [
    {
     "data": {
      "text/plain": [
       "True"
      ]
     },
     "execution_count": 37,
     "metadata": {},
     "output_type": "execute_result"
    }
   ],
   "source": [
    "if_topped"
   ]
  },
  {
   "cell_type": "code",
   "execution_count": null,
   "id": "69251a58",
   "metadata": {},
   "outputs": [],
   "source": [
    "\n",
    "athlete_cells = [td.text.strip() for td in athlete_row.find_elements(By.TAG_NAME, \"td\")]\n",
    "score_cells = [td.text.strip() for td in score_row.find_elements(By.TAG_NAME, \"td\")]\n",
    "rank = int(athlete_row.find_element(By.CLASS_NAME, \"rank\").text.strip())\n",
    "score = float(athlete_row.find_element(By.CLASS_NAME, \"r-score\").text)\n",
    "link = athlete_row.find_element(By.CLASS_NAME, \"r-name\").get_attribute(\"href\")\n",
    "name = athlete_row.find_element(By.CLASS_NAME, \"r-name\").text"
   ]
  },
  {
   "cell_type": "code",
   "execution_count": null,
   "id": "920fe3f1",
   "metadata": {},
   "outputs": [],
   "source": [
    "athlete_row.find_element(By.CLASS_NAME, \"r-name\").text"
   ]
  },
  {
   "cell_type": "markdown",
   "id": "27194375",
   "metadata": {},
   "source": []
  },
  {
   "cell_type": "code",
   "execution_count": null,
   "id": "a984e1c0",
   "metadata": {},
   "outputs": [
    {
     "data": {
      "text/plain": [
       "<selenium.webdriver.remote.webelement.WebElement (session=\"9c07cc0817249d8b71162ce5b32729b8\", element=\"f.2B262F4947F4AB7430223248370BCE16.d.700127C966EE32ED0589A2481CBF70BB.e.38\")>"
      ]
     },
     "execution_count": 27,
     "metadata": {},
     "output_type": "execute_result"
    }
   ],
   "source": [
    "i = 0\n",
    "athlete_row = rows[i]\n"
   ]
  },
  {
   "cell_type": "code",
   "execution_count": null,
   "id": "177974d9",
   "metadata": {},
   "outputs": [],
   "source": [
    "# find athelete names\n"
   ]
  },
  {
   "cell_type": "code",
   "execution_count": null,
   "id": "6e64f6d4",
   "metadata": {},
   "outputs": [
    {
     "name": "stdout",
     "output_type": "stream",
     "text": [
      "Event Title: IFSC World Cup Salt Lake City 2025\n"
     ]
    }
   ],
   "source": [
    "\n",
    "# options.add_argument(\"--headless\")\n",
    "# options.add_argument(\"--no-sandbox\")\n",
    "# options.add_argument(\"--disable-dev-shm-usage\")\n",
    "\n",
    "driver = webdriver.Chrome(\n",
    "    service=Service(ChromeDriverManager().install()),\n",
    "    options=options\n",
    ")\n",
    "\n",
    "try:\n",
    "    # Navigate to the event page\n",
    "    driver.get(\"https://ifsc.results.info/event/1409/cr/10034\")\n",
    "    time.sleep(5)  # Wait for JavaScript to load content\n",
    "\n",
    "    # Example: Extract event title\n",
    "    event_title = driver.find_element(By.CLASS_NAME, \"event-name\").text\n",
    "    print(f\"Event Title: {event_title}\")\n",
    "\n",
    "    # # Example: Extract results table\n",
    "    # # Note: The actual selectors will depend on the page's structure\n",
    "    results_table = driver.find_element(By.CLASS_NAME, \"results\")\n",
    "    # rows = results_table.find_elements(By.TAG_NAME, \"tr\")\n",
    "    # for row in rows:\n",
    "    #     cells = row.find_elements(By.TAG_NAME, \"td\")\n",
    "    #     data = [cell.text for cell in cells]\n",
    "    #     print(data)\n",
    "\n",
    "finally:\n",
    "    driver.quit()\n"
   ]
  },
  {
   "cell_type": "code",
   "execution_count": null,
   "id": "7439bd12-d6b1-4c2d-8bbf-6c945d71a1ee",
   "metadata": {},
   "outputs": [],
   "source": []
  }
 ],
 "metadata": {
  "kernelspec": {
   "display_name": "base",
   "language": "python",
   "name": "python3"
  },
  "language_info": {
   "codemirror_mode": {
    "name": "ipython",
    "version": 3
   },
   "file_extension": ".py",
   "mimetype": "text/x-python",
   "name": "python",
   "nbconvert_exporter": "python",
   "pygments_lexer": "ipython3",
   "version": "3.12.2"
  }
 },
 "nbformat": 4,
 "nbformat_minor": 5
}
